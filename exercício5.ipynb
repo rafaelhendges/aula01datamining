{bb
  "nbformat": 4,
  "nbformat_minor": 0,
  "metadata": {
    "colab": {
      "provenance": [],
      "authorship_tag": "ABX9TyNSwvG+PV/xz+j+QMcABiI5",
      "include_colab_link": true
    },
    "kernelspec": {
      "name": "python3",
      "display_name": "Python 3"
    },
    "language_info": {
      "name": "python"
    }
  },
  "cells": [
    {
      "cell_type": "markdown",
      "metadata": {
        "id": "view-in-github",
        "colab_type": "text"
      },
      "source": [
        "<a href=\"https://colab.research.google.com/github/rafaelhendges/aula01datamining/blob/main/exerc%C3%ADcio5.ipynb\" target=\"_parent\"><img src=\"https://colab.research.google.com/assets/colab-badge.svg\" alt=\"Open In Colab\"/></a>"
      ]
    },
    {
      "cell_type": "code",
      "execution_count": null,
      "metadata": {
        "id": "CQs2t_D0dSao"
      },
      "outputs": [],
      "source": [
        "# Importando as bibliotecas necessárias\n",
        "import pandas as pd\n",
        "import numpy as np\n",
        "import matplotlib.pyplot as plt\n",
        "import seaborn as sns\n",
        "from sklearn.preprocessing import StandardScaler, MinMaxScaler\n",
        "from sklearn.cluster import KMeans\n",
        "from sklearn.decomposition import PCA\n",
        "\n",
        "# Carregar o dataset\n",
        "# Você precisará fazer upload do arquivo \"Obesity Analysis.csv\" para o Colab ou substituir o caminho pelo link direto\n",
        "df = pd.read_csv('/path/to/Obesity Analysis.csv')\n",
        "\n",
        "# Visualizar as primeiras linhas do dataset\n",
        "df.head()\n"
      ]
    },
    {
      "cell_type": "code",
      "source": [
        "# Informações sobre o tipo de dados e contagem de valores não nulos\n",
        "df.info()\n",
        "\n",
        "# Estatísticas descritivas\n",
        "df.describe()\n"
      ],
      "metadata": {
        "id": "csxIoQCmdX_4"
      },
      "execution_count": null,
      "outputs": []
    },
    {
      "cell_type": "code",
      "source": [
        "# Verificar valores ausentes\n",
        "df.isnull().sum()\n",
        "\n",
        "# Remover ou substituir valores ausentes, se necessário\n",
        "df.dropna(inplace=True)  # ou outro método de preenchimento\n"
      ],
      "metadata": {
        "id": "2mbDrIg3dj2y"
      },
      "execution_count": null,
      "outputs": []
    },
    {
      "cell_type": "code",
      "source": [
        "# Identificar colunas categóricas e aplicar one-hot encoding\n",
        "categorical_columns = ['NomeDaColunaCategorica']  # Substitua com os nomes das colunas categóricas\n",
        "df = pd.get_dummies(df, columns=categorical_columns)\n"
      ],
      "metadata": {
        "id": "5_WAtfG7dlpH"
      },
      "execution_count": null,
      "outputs": []
    },
    {
      "cell_type": "code",
      "source": [
        "# Exemplo de criação de nova variável (faixa etária)\n",
        "# Suponha que exista uma coluna 'Idade', podemos categorizar em faixas\n",
        "df['faixa_etaria'] = pd.cut(df['Idade'], bins=[0, 18, 35, 50, 100], labels=['Jovem', 'Adulto', 'Meia-idade', 'Idoso'])\n"
      ],
      "metadata": {
        "id": "ylrbZd3PdnSH"
      },
      "execution_count": null,
      "outputs": []
    },
    {
      "cell_type": "code",
      "source": [
        "# Análise de tendência central\n",
        "print(df.mean())\n",
        "print(df.median())\n",
        "print(df.mode().iloc[0])\n",
        "\n",
        "# Visualizações\n",
        "plt.figure(figsize=(10, 6))\n",
        "sns.boxplot(data=df)\n",
        "plt.show()\n",
        "\n",
        "# Scatterplot para ver correlação entre duas variáveis específicas\n",
        "sns.scatterplot(x='Var1', y='Var2', data=df)  # Substitua 'Var1' e 'Var2'\n",
        "plt.show()\n",
        "\n",
        "# Histogramas para distribuição de cada variável\n",
        "df.hist(bins=30, figsize=(15, 10))\n",
        "plt.show()\n"
      ],
      "metadata": {
        "id": "6xg6aptNdolp"
      },
      "execution_count": null,
      "outputs": []
    },
    {
      "cell_type": "code",
      "source": [
        "# Detectar outliers usando IQR para uma variável específica\n",
        "Q1 = df['NomeDaVariavel'].quantile(0.25)\n",
        "Q3 = df['NomeDaVariavel'].quantile(0.75)\n",
        "IQR = Q3 - Q1\n",
        "outliers = df[(df['NomeDaVariavel'] < Q1 - 1.5 * IQR) | (df['NomeDaVariavel'] > Q3 + 1.5 * IQR)]\n",
        "\n",
        "# Remover ou substituir outliers\n",
        "df = df[~((df['NomeDaVariavel'] < Q1 - 1.5 * IQR) | (df['NomeDaVariavel'] > Q3 + 1.5 * IQR))]\n"
      ],
      "metadata": {
        "id": "G5Iu7n5Ydq7w"
      },
      "execution_count": null,
      "outputs": []
    },
    {
      "cell_type": "code",
      "source": [
        "# Normalizar ou padronizar as variáveis numéricas\n",
        "scaler = StandardScaler()  # Ou MinMaxScaler()\n",
        "df_scaled = scaler.fit_transform(df.select_dtypes(include=[np.number]))\n",
        "df_scaled = pd.DataFrame(df_scaled, columns=df.select_dtypes(include=[np.number]).columns)\n"
      ],
      "metadata": {
        "id": "yKGobZ-Ods-p"
      },
      "execution_count": null,
      "outputs": []
    },
    {
      "cell_type": "code",
      "source": [
        "# Reduzindo dimensionalidade para visualização dos clusters\n",
        "pca = PCA(2)\n",
        "df_pca = pca.fit_transform(df_scaled)\n",
        "\n",
        "# Aplicando KMeans\n",
        "kmeans = KMeans(n_clusters=3)  # Teste diferentes valores de n_clusters\n",
        "kmeans.fit(df_scaled)\n",
        "df['Cluster'] = kmeans.labels_\n",
        "\n",
        "# Visualizar clusters\n",
        "plt.scatter(df_pca[:, 0], df_pca[:, 1], c=df['Cluster'], cmap='viridis')\n",
        "plt.xlabel('PCA Component 1')\n",
        "plt.ylabel('PCA Component 2')\n",
        "plt.title('Clusters KMeans')\n",
        "plt.show()\n"
      ],
      "metadata": {
        "id": "pU5BrSuVdu7G"
      },
      "execution_count": null,
      "outputs": []
    }
  ]
}
